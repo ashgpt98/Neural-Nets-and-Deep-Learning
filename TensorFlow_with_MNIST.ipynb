{
  "nbformat": 4,
  "nbformat_minor": 0,
  "metadata": {
    "colab": {
      "name": "TensorFlow with MNIST.ipynb",
      "provenance": [],
      "collapsed_sections": []
    },
    "kernelspec": {
      "name": "python3",
      "display_name": "Python 3"
    }
  },
  "cells": [
    {
      "cell_type": "code",
      "metadata": {
        "id": "EkqPLnItxPNi",
        "colab_type": "code",
        "colab": {}
      },
      "source": [
        "import tensorflow as tf"
      ],
      "execution_count": 0,
      "outputs": []
    },
    {
      "cell_type": "code",
      "metadata": {
        "id": "dvIYYSpox5O9",
        "colab_type": "code",
        "colab": {}
      },
      "source": [
        "import numpy as np\n",
        "import pandas as pd\n",
        "import matplotlib.pyplot as plt\n",
        "%matplotlib inline"
      ],
      "execution_count": 0,
      "outputs": []
    },
    {
      "cell_type": "code",
      "metadata": {
        "id": "EeXRl0YaxVeq",
        "colab_type": "code",
        "colab": {}
      },
      "source": [
        "from tensorflow.examples.tutorials.mnist import input_data"
      ],
      "execution_count": 0,
      "outputs": []
    },
    {
      "cell_type": "code",
      "metadata": {
        "id": "WjeaNYqLxhbs",
        "colab_type": "code",
        "outputId": "7b04da63-b0c4-4139-ad15-215f87256263",
        "colab": {
          "base_uri": "https://localhost:8080/",
          "height": 87
        }
      },
      "source": [
        "mnist=input_data.read_data_sets(\"MNIST_data/\", one_hot=True)"
      ],
      "execution_count": 0,
      "outputs": [
        {
          "output_type": "stream",
          "text": [
            "Extracting MNIST_data/train-images-idx3-ubyte.gz\n",
            "Extracting MNIST_data/train-labels-idx1-ubyte.gz\n",
            "Extracting MNIST_data/t10k-images-idx3-ubyte.gz\n",
            "Extracting MNIST_data/t10k-labels-idx1-ubyte.gz\n"
          ],
          "name": "stdout"
        }
      ]
    },
    {
      "cell_type": "code",
      "metadata": {
        "id": "hkU-xvF9xs_5",
        "colab_type": "code",
        "outputId": "87cd88cd-8315-4e2c-a55c-91a1da3af21e",
        "colab": {
          "base_uri": "https://localhost:8080/",
          "height": 35
        }
      },
      "source": [
        "type(mnist)"
      ],
      "execution_count": 0,
      "outputs": [
        {
          "output_type": "execute_result",
          "data": {
            "text/plain": [
              "tensorflow.contrib.learn.python.learn.datasets.base.Datasets"
            ]
          },
          "metadata": {
            "tags": []
          },
          "execution_count": 142
        }
      ]
    },
    {
      "cell_type": "code",
      "metadata": {
        "id": "tDQH9f-Pxvxa",
        "colab_type": "code",
        "outputId": "d2546900-8813-4943-c3e4-31ba999eb6e1",
        "colab": {
          "base_uri": "https://localhost:8080/",
          "height": 139
        }
      },
      "source": [
        "mnist.train.images"
      ],
      "execution_count": 0,
      "outputs": [
        {
          "output_type": "execute_result",
          "data": {
            "text/plain": [
              "array([[0., 0., 0., ..., 0., 0., 0.],\n",
              "       [0., 0., 0., ..., 0., 0., 0.],\n",
              "       [0., 0., 0., ..., 0., 0., 0.],\n",
              "       ...,\n",
              "       [0., 0., 0., ..., 0., 0., 0.],\n",
              "       [0., 0., 0., ..., 0., 0., 0.],\n",
              "       [0., 0., 0., ..., 0., 0., 0.]], dtype=float32)"
            ]
          },
          "metadata": {
            "tags": []
          },
          "execution_count": 143
        }
      ]
    },
    {
      "cell_type": "code",
      "metadata": {
        "id": "DHvQ9jVGxy0B",
        "colab_type": "code",
        "outputId": "1595aace-4c89-438b-bdd2-ca322782e738",
        "colab": {
          "base_uri": "https://localhost:8080/",
          "height": 35
        }
      },
      "source": [
        "mnist.train.images[12].shape"
      ],
      "execution_count": 0,
      "outputs": [
        {
          "output_type": "execute_result",
          "data": {
            "text/plain": [
              "(784,)"
            ]
          },
          "metadata": {
            "tags": []
          },
          "execution_count": 144
        }
      ]
    },
    {
      "cell_type": "code",
      "metadata": {
        "id": "uQkHMf0-x26-",
        "colab_type": "code",
        "colab": {}
      },
      "source": [
        "sample=mnist.train.images[224].reshape(28,28)"
      ],
      "execution_count": 0,
      "outputs": []
    },
    {
      "cell_type": "code",
      "metadata": {
        "id": "83jKFkkCyIe9",
        "colab_type": "code",
        "outputId": "33a29f06-ebfa-417d-a1ff-93cb22134944",
        "colab": {
          "base_uri": "https://localhost:8080/",
          "height": 283
        }
      },
      "source": [
        "plt.imshow(sample,cmap='Greys')"
      ],
      "execution_count": 0,
      "outputs": [
        {
          "output_type": "execute_result",
          "data": {
            "text/plain": [
              "<matplotlib.image.AxesImage at 0x7fcb0f7b7a58>"
            ]
          },
          "metadata": {
            "tags": []
          },
          "execution_count": 146
        },
        {
          "output_type": "display_data",
          "data": {
            "image/png": "[encoded data removed]",
            "text/plain": [
              "<Figure size 432x288 with 1 Axes>"
            ]
          },
          "metadata": {
            "tags": []
          }
        }
      ]
    },
    {
      "cell_type": "code",
      "metadata": {
        "id": "ywTBlO7HyNu9",
        "colab_type": "code",
        "colab": {}
      },
      "source": [
        "learning_rate=0.001\n",
        "training_epochs=15\n",
        "batch_size=100"
      ],
      "execution_count": 0,
      "outputs": []
    },
    {
      "cell_type": "code",
      "metadata": {
        "id": "LZrpw6bwyxXh",
        "colab_type": "code",
        "colab": {}
      },
      "source": [
        " n_classes=10\n",
        " n_samples=mnist.train.num_examples"
      ],
      "execution_count": 0,
      "outputs": []
    },
    {
      "cell_type": "code",
      "metadata": {
        "id": "uvNBgACR1t5y",
        "colab_type": "code",
        "colab": {}
      },
      "source": [
        "n_input=784"
      ],
      "execution_count": 0,
      "outputs": []
    },
    {
      "cell_type": "code",
      "metadata": {
        "id": "5FjiiJ3E1wq8",
        "colab_type": "code",
        "colab": {}
      },
      "source": [
        "n_hidden_1=256\n",
        "n_hidden_2=256"
      ],
      "execution_count": 0,
      "outputs": []
    },
    {
      "cell_type": "code",
      "metadata": {
        "id": "YPUAMqxr12SZ",
        "colab_type": "code",
        "colab": {}
      },
      "source": [
        "def multilayer_perceptron(x,weights,bias):\n",
        "  #x->Placeholder\n",
        "  #weights->dict of weights\n",
        "  #bias-> dict of bias\n",
        "\n",
        "  #Layer 1\n",
        "    layer_1=tf.add(tf.matmul(x,weights['h1']),biases['b1'])\n",
        "    #RELU Activator\n",
        "    layer_1=tf.nn.relu(layer_1)\n",
        "\n",
        "  #Layer 2\n",
        "    layer_2=tf.add(tf.matmul(layer_1,weights['h2']),biases['b2'])\n",
        "    layer_2=tf.nn.relu(layer_2)\n",
        "\n",
        "  #Output Layer\n",
        "    out_layer=tf.matmul(layer_2,weights['out'])+biases['out']\n",
        "\n",
        "    return out_layer\n",
        "\n"
      ],
      "execution_count": 0,
      "outputs": []
    },
    {
      "cell_type": "code",
      "metadata": {
        "id": "eB2-MtAS7e74",
        "colab_type": "code",
        "colab": {}
      },
      "source": [
        "weights={\n",
        "    'h1':tf.Variable(tf.random_normal([n_input,n_hidden_1])),\n",
        "    'h2':tf.Variable(tf.random_normal([n_hidden_1,n_hidden_2])),\n",
        "    'out':tf.Variable(tf.random_normal([n_hidden_2,n_classes]))\n",
        "}"
      ],
      "execution_count": 0,
      "outputs": []
    },
    {
      "cell_type": "code",
      "metadata": {
        "id": "_cFlgqKq7_qZ",
        "colab_type": "code",
        "colab": {}
      },
      "source": [
        "biases={\n",
        "    'b1':tf.Variable(tf.random_normal([n_hidden_1])),\n",
        "    'b2':tf.Variable(tf.random_normal([n_hidden_2])),\n",
        "    'out':tf.Variable(tf.random_normal([n_classes]))\n",
        "}"
      ],
      "execution_count": 0,
      "outputs": []
    },
    {
      "cell_type": "code",
      "metadata": {
        "id": "GUI-QWGE8a-_",
        "colab_type": "code",
        "colab": {}
      },
      "source": [
        "x=tf.placeholder('float',[None,n_input])"
      ],
      "execution_count": 0,
      "outputs": []
    },
    {
      "cell_type": "code",
      "metadata": {
        "id": "7Iz_3NZ08tBt",
        "colab_type": "code",
        "colab": {}
      },
      "source": [
        "y=tf.placeholder('float',[None,n_classes])"
      ],
      "execution_count": 0,
      "outputs": []
    },
    {
      "cell_type": "code",
      "metadata": {
        "id": "nDZ2BQLr81El",
        "colab_type": "code",
        "colab": {}
      },
      "source": [
        "pred=multilayer_perceptron(x,weights,biases)"
      ],
      "execution_count": 0,
      "outputs": []
    },
    {
      "cell_type": "code",
      "metadata": {
        "id": "RXJnG-Xl86g7",
        "colab_type": "code",
        "colab": {}
      },
      "source": [
        "cost=tf.reduce_mean(tf.nn.softmax_cross_entropy_with_logits_v2(pred,y))"
      ],
      "execution_count": 0,
      "outputs": []
    },
    {
      "cell_type": "code",
      "metadata": {
        "id": "NtBGYSUl9rbI",
        "colab_type": "code",
        "colab": {}
      },
      "source": [
        "optimizer=tf.train.AdamOptimizer(learning_rate=learning_rate).minimize(cost)"
      ],
      "execution_count": 0,
      "outputs": []
    },
    {
      "cell_type": "code",
      "metadata": {
        "id": "MslHYrrQ97sg",
        "colab_type": "code",
        "colab": {}
      },
      "source": [
        "##Training the Model"
      ],
      "execution_count": 0,
      "outputs": []
    },
    {
      "cell_type": "code",
      "metadata": {
        "id": "F5otUP3SAXi2",
        "colab_type": "code",
        "colab": {}
      },
      "source": [
        "t=mnist.train.next_batch(1)"
      ],
      "execution_count": 0,
      "outputs": []
    },
    {
      "cell_type": "code",
      "metadata": {
        "id": "OU_9WZL7AeAI",
        "colab_type": "code",
        "colab": {}
      },
      "source": [
        "batchX,batchY=t"
      ],
      "execution_count": 0,
      "outputs": []
    },
    {
      "cell_type": "code",
      "metadata": {
        "id": "I_w6AGJ7AgVE",
        "colab_type": "code",
        "outputId": "2e5c2b1a-b968-4a27-a80e-863f9c7c3273",
        "colab": {
          "base_uri": "https://localhost:8080/",
          "height": 283
        }
      },
      "source": [
        "plt.imshow(batchX.reshape(28,28),cmap='Greys')"
      ],
      "execution_count": 0,
      "outputs": [
        {
          "output_type": "execute_result",
          "data": {
            "text/plain": [
              "<matplotlib.image.AxesImage at 0x7fcb0e6a1908>"
            ]
          },
          "metadata": {
            "tags": []
          },
          "execution_count": 162
        },
        {
          "output_type": "display_data",
          "data": {
            "image/png": "[encoded data removed]",
            "text/plain": [
              "<Figure size 432x288 with 1 Axes>"
            ]
          },
          "metadata": {
            "tags": []
          }
        }
      ]
    },
    {
      "cell_type": "code",
      "metadata": {
        "id": "rpJcrJ-fApfK",
        "colab_type": "code",
        "outputId": "b82411af-bb4d-452d-db2f-236a3269243a",
        "colab": {
          "base_uri": "https://localhost:8080/",
          "height": 72
        }
      },
      "source": [
        "sess=tf.InteractiveSession()"
      ],
      "execution_count": 0,
      "outputs": [
        {
          "output_type": "stream",
          "text": [
            "/usr/local/lib/python3.6/dist-packages/tensorflow_core/python/client/session.py:1750: UserWarning: An interactive session is already active. This can cause out-of-memory errors in some cases. You must explicitly call `InteractiveSession.close()` to release resources held by the other session(s).\n",
            "  warnings.warn('An interactive session is already active. This can '\n"
          ],
          "name": "stderr"
        }
      ]
    },
    {
      "cell_type": "code",
      "metadata": {
        "id": "NEmlbNkHAw7j",
        "colab_type": "code",
        "colab": {}
      },
      "source": [
        "init=tf.initialize_all_variables()"
      ],
      "execution_count": 0,
      "outputs": []
    },
    {
      "cell_type": "code",
      "metadata": {
        "id": "Kzzy_xopA1E3",
        "colab_type": "code",
        "colab": {}
      },
      "source": [
        "sess.run(init)"
      ],
      "execution_count": 0,
      "outputs": []
    },
    {
      "cell_type": "code",
      "metadata": {
        "id": "7RTmMkv_A3DV",
        "colab_type": "code",
        "outputId": "806739d9-9ffd-4e22-f10d-07b9635f078b",
        "colab": {
          "base_uri": "https://localhost:8080/",
          "height": 295
        }
      },
      "source": [
        "#15 Loops\n",
        "for epochs in range(training_epochs):\n",
        "   avg_cost=0.0\n",
        "   total_batch= int(n_samples/batch_size)\n",
        "   for i in range(total_batch):\n",
        "     batch_x,batch_y=mnist.train.next_batch(batch_size)\n",
        "     _,c=sess.run([optimizer,cost],feed_dict={x:batch_x,y:batch_y})\n",
        "     avg_cost += c/total_batch\n",
        "   print(\"Epoch: {} cost:{:.4f}\".format(epochs+1,avg_cost))\n",
        "\n",
        "print(\"Model has completed {} Epochs of training\".format(training_epochs))"
      ],
      "execution_count": 0,
      "outputs": [
        {
          "output_type": "stream",
          "text": [
            "Epoch: 1 cost:-25759213.5049\n",
            "Epoch: 2 cost:-424654244.5964\n",
            "Epoch: 3 cost:-1734354114.4436\n",
            "Epoch: 4 cost:-4275006990.8945\n",
            "Epoch: 5 cost:-8237396921.2509\n",
            "Epoch: 6 cost:-13752087376.9891\n",
            "Epoch: 7 cost:-20922713549.7309\n",
            "Epoch: 8 cost:-29849623201.9782\n",
            "Epoch: 9 cost:-40624563725.0327\n",
            "Epoch: 10 cost:-53344668273.5709\n",
            "Epoch: 11 cost:-68106995131.1127\n",
            "Epoch: 12 cost:-85006551807.0691\n",
            "Epoch: 13 cost:-104146012212.1310\n",
            "Epoch: 14 cost:-125634810049.6292\n",
            "Epoch: 15 cost:-149572864722.3854\n",
            "Model has completed 15 Epochs of training\n"
          ],
          "name": "stdout"
        }
      ]
    },
    {
      "cell_type": "code",
      "metadata": {
        "id": "_vAyY9TzCVfS",
        "colab_type": "code",
        "colab": {}
      },
      "source": [
        "#Model Evaluation"
      ],
      "execution_count": 0,
      "outputs": []
    },
    {
      "cell_type": "code",
      "metadata": {
        "id": "JI5EaO9CFt_Y",
        "colab_type": "code",
        "colab": {}
      },
      "source": [
        "correct_prediction=tf.equal(tf.argmax(pred,1),tf.argmax(y,1))"
      ],
      "execution_count": 0,
      "outputs": []
    },
    {
      "cell_type": "code",
      "metadata": {
        "id": "sliC2oLfGUni",
        "colab_type": "code",
        "outputId": "d4faca5e-2692-4a5c-941c-d2086cf6a9f0",
        "colab": {
          "base_uri": "https://localhost:8080/",
          "height": 35
        }
      },
      "source": [
        "print(correct_prediction)"
      ],
      "execution_count": 0,
      "outputs": [
        {
          "output_type": "stream",
          "text": [
            "Tensor(\"Equal_3:0\", shape=(?,), dtype=bool)\n"
          ],
          "name": "stdout"
        }
      ]
    },
    {
      "cell_type": "code",
      "metadata": {
        "id": "nFW2rD7iGWfb",
        "colab_type": "code",
        "colab": {}
      },
      "source": [
        "correct_prediction=tf.cast(correct_prediction,'float')"
      ],
      "execution_count": 0,
      "outputs": []
    },
    {
      "cell_type": "code",
      "metadata": {
        "id": "Wj7E88cGGfDv",
        "colab_type": "code",
        "outputId": "9fd83b75-341d-44e7-93c0-0c98815601cb",
        "colab": {
          "base_uri": "https://localhost:8080/",
          "height": 35
        }
      },
      "source": [
        "print(correct_prediction)"
      ],
      "execution_count": 0,
      "outputs": [
        {
          "output_type": "stream",
          "text": [
            "Tensor(\"Cast_3:0\", shape=(?,), dtype=float32)\n"
          ],
          "name": "stdout"
        }
      ]
    },
    {
      "cell_type": "code",
      "metadata": {
        "id": "vkYz5ntfGgd-",
        "colab_type": "code",
        "colab": {}
      },
      "source": [
        "accuracy=tf.reduce_mean(correct_prediction)"
      ],
      "execution_count": 0,
      "outputs": []
    },
    {
      "cell_type": "code",
      "metadata": {
        "id": "di2-F76DGnWL",
        "colab_type": "code",
        "outputId": "80c6515e-1ee8-4e44-8696-62c69a377a61",
        "colab": {
          "base_uri": "https://localhost:8080/",
          "height": 35
        }
      },
      "source": [
        "type(accuracy)"
      ],
      "execution_count": 0,
      "outputs": [
        {
          "output_type": "execute_result",
          "data": {
            "text/plain": [
              "tensorflow.python.framework.ops.Tensor"
            ]
          },
          "metadata": {
            "tags": []
          },
          "execution_count": 173
        }
      ]
    },
    {
      "cell_type": "code",
      "metadata": {
        "id": "_cmicXwRGo3n",
        "colab_type": "code",
        "outputId": "6231756d-3c5b-429e-8902-deca085c6923",
        "colab": {
          "base_uri": "https://localhost:8080/",
          "height": 35
        }
      },
      "source": [
        "mnist.test.labels[0]"
      ],
      "execution_count": 0,
      "outputs": [
        {
          "output_type": "execute_result",
          "data": {
            "text/plain": [
              "array([0., 0., 0., 0., 0., 0., 0., 1., 0., 0.])"
            ]
          },
          "metadata": {
            "tags": []
          },
          "execution_count": 174
        }
      ]
    },
    {
      "cell_type": "code",
      "metadata": {
        "id": "KsEBLfM6GvHF",
        "colab_type": "code",
        "outputId": "8fdb1b38-adeb-4c16-deba-57c0d075580c",
        "colab": {
          "base_uri": "https://localhost:8080/",
          "height": 35
        }
      },
      "source": [
        "accuracy.eval({x:mnist.test.images,y:mnist.test.labels})"
      ],
      "execution_count": 0,
      "outputs": [
        {
          "output_type": "execute_result",
          "data": {
            "text/plain": [
              "0.1009"
            ]
          },
          "metadata": {
            "tags": []
          },
          "execution_count": 175
        }
      ]
    },
    {
      "cell_type": "code",
      "metadata": {
        "id": "hjLx6XEaHA5F",
        "colab_type": "code",
        "colab": {}
      },
      "source": [
        ""
      ],
      "execution_count": 0,
      "outputs": []
    }
  ]
}